{
 "cells": [
  {
   "cell_type": "code",
   "execution_count": 1,
   "id": "c7e9041c",
   "metadata": {
    "_cell_guid": "b1076dfc-b9ad-4769-8c92-a6c4dae69d19",
    "_uuid": "8f2839f25d086af736a60e9eeb907d3b93b6e0e5",
    "execution": {
     "iopub.execute_input": "2021-10-08T13:54:12.322848Z",
     "iopub.status.busy": "2021-10-08T13:54:12.322161Z",
     "iopub.status.idle": "2021-10-08T13:54:13.191029Z",
     "shell.execute_reply": "2021-10-08T13:54:13.189877Z",
     "shell.execute_reply.started": "2021-10-08T13:53:22.922465Z"
    },
    "papermill": {
     "duration": 0.90675,
     "end_time": "2021-10-08T13:54:13.191206",
     "exception": false,
     "start_time": "2021-10-08T13:54:12.284456",
     "status": "completed"
    },
    "tags": []
   },
   "outputs": [],
   "source": [
    "import pandas as pd\n",
    "import numpy as np\n",
    "import seaborn as sns\n",
    "import matplotlib.pyplot as plt"
   ]
  },
  {
   "cell_type": "code",
   "execution_count": 2,
   "id": "f10b0a13",
   "metadata": {
    "execution": {
     "iopub.execute_input": "2021-10-08T13:54:13.248108Z",
     "iopub.status.busy": "2021-10-08T13:54:13.247534Z",
     "iopub.status.idle": "2021-10-08T13:54:13.276198Z",
     "shell.execute_reply": "2021-10-08T13:54:13.275626Z",
     "shell.execute_reply.started": "2021-10-08T13:53:22.930718Z"
    },
    "papermill": {
     "duration": 0.057908,
     "end_time": "2021-10-08T13:54:13.276347",
     "exception": false,
     "start_time": "2021-10-08T13:54:13.218439",
     "status": "completed"
    },
    "tags": []
   },
   "outputs": [],
   "source": [
    "titanik = pd.read_csv(\"../input/titanik-csv/titanic.csv\")"
   ]
  },
  {
   "cell_type": "code",
   "execution_count": 3,
   "id": "42f5ee44",
   "metadata": {
    "execution": {
     "iopub.execute_input": "2021-10-08T13:54:13.335756Z",
     "iopub.status.busy": "2021-10-08T13:54:13.335075Z",
     "iopub.status.idle": "2021-10-08T13:54:13.356522Z",
     "shell.execute_reply": "2021-10-08T13:54:13.356976Z",
     "shell.execute_reply.started": "2021-10-08T13:53:22.954852Z"
    },
    "papermill": {
     "duration": 0.055416,
     "end_time": "2021-10-08T13:54:13.357137",
     "exception": false,
     "start_time": "2021-10-08T13:54:13.301721",
     "status": "completed"
    },
    "tags": []
   },
   "outputs": [
    {
     "data": {
      "text/html": [
       "<div>\n",
       "<style scoped>\n",
       "    .dataframe tbody tr th:only-of-type {\n",
       "        vertical-align: middle;\n",
       "    }\n",
       "\n",
       "    .dataframe tbody tr th {\n",
       "        vertical-align: top;\n",
       "    }\n",
       "\n",
       "    .dataframe thead th {\n",
       "        text-align: right;\n",
       "    }\n",
       "</style>\n",
       "<table border=\"1\" class=\"dataframe\">\n",
       "  <thead>\n",
       "    <tr style=\"text-align: right;\">\n",
       "      <th></th>\n",
       "      <th>pclass</th>\n",
       "      <th>survived</th>\n",
       "      <th>name</th>\n",
       "      <th>sex</th>\n",
       "      <th>age</th>\n",
       "      <th>sibsp</th>\n",
       "      <th>parch</th>\n",
       "      <th>ticket</th>\n",
       "      <th>fare</th>\n",
       "      <th>cabin</th>\n",
       "      <th>embarked</th>\n",
       "      <th>boat</th>\n",
       "      <th>body</th>\n",
       "      <th>home.dest</th>\n",
       "    </tr>\n",
       "  </thead>\n",
       "  <tbody>\n",
       "    <tr>\n",
       "      <th>0</th>\n",
       "      <td>1.0</td>\n",
       "      <td>1.0</td>\n",
       "      <td>Allen, Miss. Elisabeth Walton</td>\n",
       "      <td>female</td>\n",
       "      <td>29.0000</td>\n",
       "      <td>0.0</td>\n",
       "      <td>0.0</td>\n",
       "      <td>24160</td>\n",
       "      <td>211.3375</td>\n",
       "      <td>B5</td>\n",
       "      <td>S</td>\n",
       "      <td>2</td>\n",
       "      <td>NaN</td>\n",
       "      <td>St Louis, MO</td>\n",
       "    </tr>\n",
       "    <tr>\n",
       "      <th>1</th>\n",
       "      <td>1.0</td>\n",
       "      <td>1.0</td>\n",
       "      <td>Allison, Master. Hudson Trevor</td>\n",
       "      <td>male</td>\n",
       "      <td>0.9167</td>\n",
       "      <td>1.0</td>\n",
       "      <td>2.0</td>\n",
       "      <td>113781</td>\n",
       "      <td>151.5500</td>\n",
       "      <td>C22 C26</td>\n",
       "      <td>S</td>\n",
       "      <td>11</td>\n",
       "      <td>NaN</td>\n",
       "      <td>Montreal, PQ / Chesterville, ON</td>\n",
       "    </tr>\n",
       "    <tr>\n",
       "      <th>2</th>\n",
       "      <td>1.0</td>\n",
       "      <td>0.0</td>\n",
       "      <td>Allison, Miss. Helen Loraine</td>\n",
       "      <td>female</td>\n",
       "      <td>2.0000</td>\n",
       "      <td>1.0</td>\n",
       "      <td>2.0</td>\n",
       "      <td>113781</td>\n",
       "      <td>151.5500</td>\n",
       "      <td>C22 C26</td>\n",
       "      <td>S</td>\n",
       "      <td>NaN</td>\n",
       "      <td>NaN</td>\n",
       "      <td>Montreal, PQ / Chesterville, ON</td>\n",
       "    </tr>\n",
       "    <tr>\n",
       "      <th>3</th>\n",
       "      <td>1.0</td>\n",
       "      <td>0.0</td>\n",
       "      <td>Allison, Mr. Hudson Joshua Creighton</td>\n",
       "      <td>male</td>\n",
       "      <td>30.0000</td>\n",
       "      <td>1.0</td>\n",
       "      <td>2.0</td>\n",
       "      <td>113781</td>\n",
       "      <td>151.5500</td>\n",
       "      <td>C22 C26</td>\n",
       "      <td>S</td>\n",
       "      <td>NaN</td>\n",
       "      <td>135.0</td>\n",
       "      <td>Montreal, PQ / Chesterville, ON</td>\n",
       "    </tr>\n",
       "    <tr>\n",
       "      <th>4</th>\n",
       "      <td>1.0</td>\n",
       "      <td>0.0</td>\n",
       "      <td>Allison, Mrs. Hudson J C (Bessie Waldo Daniels)</td>\n",
       "      <td>female</td>\n",
       "      <td>25.0000</td>\n",
       "      <td>1.0</td>\n",
       "      <td>2.0</td>\n",
       "      <td>113781</td>\n",
       "      <td>151.5500</td>\n",
       "      <td>C22 C26</td>\n",
       "      <td>S</td>\n",
       "      <td>NaN</td>\n",
       "      <td>NaN</td>\n",
       "      <td>Montreal, PQ / Chesterville, ON</td>\n",
       "    </tr>\n",
       "  </tbody>\n",
       "</table>\n",
       "</div>"
      ],
      "text/plain": [
       "   pclass  survived                                             name     sex  \\\n",
       "0     1.0       1.0                    Allen, Miss. Elisabeth Walton  female   \n",
       "1     1.0       1.0                   Allison, Master. Hudson Trevor    male   \n",
       "2     1.0       0.0                     Allison, Miss. Helen Loraine  female   \n",
       "3     1.0       0.0             Allison, Mr. Hudson Joshua Creighton    male   \n",
       "4     1.0       0.0  Allison, Mrs. Hudson J C (Bessie Waldo Daniels)  female   \n",
       "\n",
       "       age  sibsp  parch  ticket      fare    cabin embarked boat   body  \\\n",
       "0  29.0000    0.0    0.0   24160  211.3375       B5        S    2    NaN   \n",
       "1   0.9167    1.0    2.0  113781  151.5500  C22 C26        S   11    NaN   \n",
       "2   2.0000    1.0    2.0  113781  151.5500  C22 C26        S  NaN    NaN   \n",
       "3  30.0000    1.0    2.0  113781  151.5500  C22 C26        S  NaN  135.0   \n",
       "4  25.0000    1.0    2.0  113781  151.5500  C22 C26        S  NaN    NaN   \n",
       "\n",
       "                         home.dest  \n",
       "0                     St Louis, MO  \n",
       "1  Montreal, PQ / Chesterville, ON  \n",
       "2  Montreal, PQ / Chesterville, ON  \n",
       "3  Montreal, PQ / Chesterville, ON  \n",
       "4  Montreal, PQ / Chesterville, ON  "
      ]
     },
     "execution_count": 3,
     "metadata": {},
     "output_type": "execute_result"
    }
   ],
   "source": [
    "titanik.head()"
   ]
  },
  {
   "cell_type": "markdown",
   "id": "858fc91b",
   "metadata": {
    "papermill": {
     "duration": 0.025403,
     "end_time": "2021-10-08T13:54:13.408939",
     "exception": false,
     "start_time": "2021-10-08T13:54:13.383536",
     "status": "completed"
    },
    "tags": []
   },
   "source": [
    "Features\n",
    "survival - Survival (0 = No; 1 = Yes)\n",
    "class - Passenger Class (1 = 1st; 2 = 2nd; 3 = 3rd)\n",
    "name - Name\n",
    "sex - Sex\n",
    "age - Age\n",
    "sibsp - Number of Siblings/Spouses Aboard\n",
    "parch - Number of Parents/Children Aboard\n",
    "ticket - Ticket Number\n",
    "fare - Passenger Fare\n",
    "cabin - Cabin\n",
    "embarked - Port of Embarkation (C = Cherbourg; Q = Queenstown; S = Southampton)\n",
    "boat - Lifeboat (if survived)\n",
    "body - Body number (if did not survive and body was recovered)"
   ]
  },
  {
   "cell_type": "code",
   "execution_count": 4,
   "id": "7bc37a72",
   "metadata": {
    "execution": {
     "iopub.execute_input": "2021-10-08T13:54:13.463082Z",
     "iopub.status.busy": "2021-10-08T13:54:13.462530Z",
     "iopub.status.idle": "2021-10-08T13:54:13.466574Z",
     "shell.execute_reply": "2021-10-08T13:54:13.467065Z",
     "shell.execute_reply.started": "2021-10-08T13:53:22.990542Z"
    },
    "papermill": {
     "duration": 0.032623,
     "end_time": "2021-10-08T13:54:13.467232",
     "exception": false,
     "start_time": "2021-10-08T13:54:13.434609",
     "status": "completed"
    },
    "tags": []
   },
   "outputs": [
    {
     "data": {
      "text/plain": [
       "(1310, 14)"
      ]
     },
     "execution_count": 4,
     "metadata": {},
     "output_type": "execute_result"
    }
   ],
   "source": [
    "titanik.shape"
   ]
  },
  {
   "cell_type": "code",
   "execution_count": 5,
   "id": "1ff04b46",
   "metadata": {
    "execution": {
     "iopub.execute_input": "2021-10-08T13:54:13.521574Z",
     "iopub.status.busy": "2021-10-08T13:54:13.520890Z",
     "iopub.status.idle": "2021-10-08T13:54:13.527717Z",
     "shell.execute_reply": "2021-10-08T13:54:13.528191Z",
     "shell.execute_reply.started": "2021-10-08T13:53:23.003859Z"
    },
    "papermill": {
     "duration": 0.035483,
     "end_time": "2021-10-08T13:54:13.528367",
     "exception": false,
     "start_time": "2021-10-08T13:54:13.492884",
     "status": "completed"
    },
    "tags": []
   },
   "outputs": [
    {
     "data": {
      "text/plain": [
       "pclass       float64\n",
       "survived     float64\n",
       "name          object\n",
       "sex           object\n",
       "age          float64\n",
       "sibsp        float64\n",
       "parch        float64\n",
       "ticket        object\n",
       "fare         float64\n",
       "cabin         object\n",
       "embarked      object\n",
       "boat          object\n",
       "body         float64\n",
       "home.dest     object\n",
       "dtype: object"
      ]
     },
     "execution_count": 5,
     "metadata": {},
     "output_type": "execute_result"
    }
   ],
   "source": [
    "titanik.dtypes"
   ]
  },
  {
   "cell_type": "code",
   "execution_count": 6,
   "id": "992f0745",
   "metadata": {
    "execution": {
     "iopub.execute_input": "2021-10-08T13:54:13.590128Z",
     "iopub.status.busy": "2021-10-08T13:54:13.589537Z",
     "iopub.status.idle": "2021-10-08T13:54:13.786972Z",
     "shell.execute_reply": "2021-10-08T13:54:13.787489Z",
     "shell.execute_reply.started": "2021-10-08T13:53:23.024653Z"
    },
    "papermill": {
     "duration": 0.232915,
     "end_time": "2021-10-08T13:54:13.787656",
     "exception": false,
     "start_time": "2021-10-08T13:54:13.554741",
     "status": "completed"
    },
    "tags": []
   },
   "outputs": [
    {
     "data": {
      "text/plain": [
       "<AxesSubplot:xlabel='survived', ylabel='count'>"
      ]
     },
     "execution_count": 6,
     "metadata": {},
     "output_type": "execute_result"
    },
    {
     "data": {
      "image/png": "[encoded data removed]",
      "text/plain": [
       "<Figure size 1440x720 with 1 Axes>"
      ]
     },
     "metadata": {
      "needs_background": "light"
     },
     "output_type": "display_data"
    }
   ],
   "source": [
    "plt.figure(figsize=(20,10))\n",
    "sns.countplot(x = \"survived\", data = titanik)  "
   ]
  },
  {
   "cell_type": "markdown",
   "id": "0d238dfc",
   "metadata": {
    "papermill": {
     "duration": 0.026738,
     "end_time": "2021-10-08T13:54:13.841354",
     "exception": false,
     "start_time": "2021-10-08T13:54:13.814616",
     "status": "completed"
    },
    "tags": []
   },
   "source": [
    "veri setindeki hayatta kalanların ve ölenlerin sayısını gösteren çubuk grafiği (1:kurtulanlar, 0: ölenler)"
   ]
  },
  {
   "cell_type": "code",
   "execution_count": 7,
   "id": "cd6a8e0d",
   "metadata": {
    "execution": {
     "iopub.execute_input": "2021-10-08T13:54:13.900601Z",
     "iopub.status.busy": "2021-10-08T13:54:13.899672Z",
     "iopub.status.idle": "2021-10-08T13:54:14.090542Z",
     "shell.execute_reply": "2021-10-08T13:54:14.090989Z",
     "shell.execute_reply.started": "2021-10-08T13:53:23.301521Z"
    },
    "papermill": {
     "duration": 0.221771,
     "end_time": "2021-10-08T13:54:14.091150",
     "exception": false,
     "start_time": "2021-10-08T13:54:13.869379",
     "status": "completed"
    },
    "tags": []
   },
   "outputs": [
    {
     "data": {
      "text/plain": [
       "<AxesSubplot:xlabel='survived', ylabel='count'>"
      ]
     },
     "execution_count": 7,
     "metadata": {},
     "output_type": "execute_result"
    },
    {
     "data": {
      "image/png": "[encoded data removed]",
      "text/plain": [
       "<Figure size 1440x720 with 1 Axes>"
      ]
     },
     "metadata": {
      "needs_background": "light"
     },
     "output_type": "display_data"
    }
   ],
   "source": [
    "plt.figure(figsize=(20,10))\n",
    "sns.countplot(x = \"survived\", hue = \"pclass\",  data = titanik) "
   ]
  },
  {
   "cell_type": "markdown",
   "id": "fe312099",
   "metadata": {
    "papermill": {
     "duration": 0.027681,
     "end_time": "2021-10-08T13:54:14.146802",
     "exception": false,
     "start_time": "2021-10-08T13:54:14.119121",
     "status": "completed"
    },
    "tags": []
   },
   "source": [
    "Veri setindeki hayatta kalanların ve ölenlerin sayısını, bulunduğu sınıfa göre gösteren çubuk grafiği."
   ]
  },
  {
   "cell_type": "code",
   "execution_count": 8,
   "id": "02bc080d",
   "metadata": {
    "execution": {
     "iopub.execute_input": "2021-10-08T13:54:14.215967Z",
     "iopub.status.busy": "2021-10-08T13:54:14.212700Z",
     "iopub.status.idle": "2021-10-08T13:54:14.402452Z",
     "shell.execute_reply": "2021-10-08T13:54:14.402895Z",
     "shell.execute_reply.started": "2021-10-08T13:53:23.588294Z"
    },
    "papermill": {
     "duration": 0.225164,
     "end_time": "2021-10-08T13:54:14.403056",
     "exception": false,
     "start_time": "2021-10-08T13:54:14.177892",
     "status": "completed"
    },
    "tags": []
   },
   "outputs": [
    {
     "data": {
      "text/plain": [
       "<AxesSubplot:xlabel='survived', ylabel='count'>"
      ]
     },
     "execution_count": 8,
     "metadata": {},
     "output_type": "execute_result"
    },
    {
     "data": {
      "image/png": "[encoded data removed]",
      "text/plain": [
       "<Figure size 1440x720 with 1 Axes>"
      ]
     },
     "metadata": {
      "needs_background": "light"
     },
     "output_type": "display_data"
    }
   ],
   "source": [
    "plt.figure(figsize=(20,10))\n",
    "sns.countplot(x = \"survived\", hue = \"sex\",  data = titanik) "
   ]
  },
  {
   "cell_type": "markdown",
   "id": "cf7d711c",
   "metadata": {
    "papermill": {
     "duration": 0.028471,
     "end_time": "2021-10-08T13:54:14.460565",
     "exception": false,
     "start_time": "2021-10-08T13:54:14.432094",
     "status": "completed"
    },
    "tags": []
   },
   "source": [
    "Veri setindeki hayatta kalanların ve ölenlerin sayısını, cinsiyete göre gösteren çubuk grafiği"
   ]
  },
  {
   "cell_type": "code",
   "execution_count": 9,
   "id": "39e9b491",
   "metadata": {
    "execution": {
     "iopub.execute_input": "2021-10-08T13:54:14.530860Z",
     "iopub.status.busy": "2021-10-08T13:54:14.529918Z",
     "iopub.status.idle": "2021-10-08T13:54:14.752405Z",
     "shell.execute_reply": "2021-10-08T13:54:14.752862Z",
     "shell.execute_reply.started": "2021-10-08T13:53:23.899547Z"
    },
    "papermill": {
     "duration": 0.258954,
     "end_time": "2021-10-08T13:54:14.753022",
     "exception": false,
     "start_time": "2021-10-08T13:54:14.494068",
     "status": "completed"
    },
    "tags": []
   },
   "outputs": [
    {
     "data": {
      "text/plain": [
       "<AxesSubplot:ylabel='Frequency'>"
      ]
     },
     "execution_count": 9,
     "metadata": {},
     "output_type": "execute_result"
    },
    {
     "data": {
      "image/png": "[encoded data removed]",
      "text/plain": [
       "<Figure size 1440x720 with 1 Axes>"
      ]
     },
     "metadata": {
      "needs_background": "light"
     },
     "output_type": "display_data"
    }
   ],
   "source": [
    "plt.figure(figsize=(20,10))\n",
    "titanik[\"age\"].plot.hist() "
   ]
  },
  {
   "cell_type": "markdown",
   "id": "0b4d702e",
   "metadata": {
    "papermill": {
     "duration": 0.029691,
     "end_time": "2021-10-08T13:54:14.812561",
     "exception": false,
     "start_time": "2021-10-08T13:54:14.782870",
     "status": "completed"
    },
    "tags": []
   },
   "source": [
    "Gemideki yolcuların, yaşlarının histogram grafiği"
   ]
  },
  {
   "cell_type": "code",
   "execution_count": 10,
   "id": "b7574fd1",
   "metadata": {
    "execution": {
     "iopub.execute_input": "2021-10-08T13:54:14.889432Z",
     "iopub.status.busy": "2021-10-08T13:54:14.888486Z",
     "iopub.status.idle": "2021-10-08T13:54:15.091353Z",
     "shell.execute_reply": "2021-10-08T13:54:15.090735Z",
     "shell.execute_reply.started": "2021-10-08T13:53:24.251033Z"
    },
    "papermill": {
     "duration": 0.23573,
     "end_time": "2021-10-08T13:54:15.091499",
     "exception": false,
     "start_time": "2021-10-08T13:54:14.855769",
     "status": "completed"
    },
    "tags": []
   },
   "outputs": [
    {
     "data": {
      "text/plain": [
       "<AxesSubplot:ylabel='Frequency'>"
      ]
     },
     "execution_count": 10,
     "metadata": {},
     "output_type": "execute_result"
    },
    {
     "data": {
      "image/png": "[encoded data removed]",
      "text/plain": [
       "<Figure size 720x360 with 1 Axes>"
      ]
     },
     "metadata": {
      "needs_background": "light"
     },
     "output_type": "display_data"
    }
   ],
   "source": [
    "plt.figure(figsize=(20,10))\n",
    "titanik[\"fare\"].plot.hist(bins = 20, figsize = (10,5)) "
   ]
  },
  {
   "cell_type": "markdown",
   "id": "186f7bfc",
   "metadata": {
    "papermill": {
     "duration": 0.031788,
     "end_time": "2021-10-08T13:54:15.154515",
     "exception": false,
     "start_time": "2021-10-08T13:54:15.122727",
     "status": "completed"
    },
    "tags": []
   },
   "source": [
    "Bilet ücreti bilgisinin histogram grafiği"
   ]
  },
  {
   "cell_type": "code",
   "execution_count": 11,
   "id": "573fb899",
   "metadata": {
    "execution": {
     "iopub.execute_input": "2021-10-08T13:54:15.222169Z",
     "iopub.status.busy": "2021-10-08T13:54:15.218733Z",
     "iopub.status.idle": "2021-10-08T13:54:15.397105Z",
     "shell.execute_reply": "2021-10-08T13:54:15.396392Z",
     "shell.execute_reply.started": "2021-10-08T13:53:24.580196Z"
    },
    "papermill": {
     "duration": 0.211957,
     "end_time": "2021-10-08T13:54:15.397256",
     "exception": false,
     "start_time": "2021-10-08T13:54:15.185299",
     "status": "completed"
    },
    "tags": []
   },
   "outputs": [
    {
     "data": {
      "text/plain": [
       "<AxesSubplot:xlabel='sibsp', ylabel='count'>"
      ]
     },
     "execution_count": 11,
     "metadata": {},
     "output_type": "execute_result"
    },
    {
     "data": {
      "image/png": "[encoded data removed]",
      "text/plain": [
       "<Figure size 1440x720 with 1 Axes>"
      ]
     },
     "metadata": {
      "needs_background": "light"
     },
     "output_type": "display_data"
    }
   ],
   "source": [
    "plt.figure(figsize=(20,10))\n",
    "sns.countplot(x = \"sibsp\", data = titanik)"
   ]
  },
  {
   "cell_type": "markdown",
   "id": "c9147dfd",
   "metadata": {
    "papermill": {
     "duration": 0.03056,
     "end_time": "2021-10-08T13:54:15.459021",
     "exception": false,
     "start_time": "2021-10-08T13:54:15.428461",
     "status": "completed"
    },
    "tags": []
   },
   "source": [
    "Gemideki eş/kardeş sayısını gösteren grafik."
   ]
  },
  {
   "cell_type": "code",
   "execution_count": 12,
   "id": "570e2050",
   "metadata": {
    "execution": {
     "iopub.execute_input": "2021-10-08T13:54:15.524364Z",
     "iopub.status.busy": "2021-10-08T13:54:15.523721Z",
     "iopub.status.idle": "2021-10-08T13:54:15.532102Z",
     "shell.execute_reply": "2021-10-08T13:54:15.531659Z",
     "shell.execute_reply.started": "2021-10-08T13:53:24.874988Z"
    },
    "papermill": {
     "duration": 0.042305,
     "end_time": "2021-10-08T13:54:15.532251",
     "exception": false,
     "start_time": "2021-10-08T13:54:15.489946",
     "status": "completed"
    },
    "tags": []
   },
   "outputs": [
    {
     "data": {
      "text/plain": [
       "pclass          1\n",
       "survived        1\n",
       "name            1\n",
       "sex             1\n",
       "age           264\n",
       "sibsp           1\n",
       "parch           1\n",
       "ticket          1\n",
       "fare            2\n",
       "cabin        1015\n",
       "embarked        3\n",
       "boat          824\n",
       "body         1189\n",
       "home.dest     565\n",
       "dtype: int64"
      ]
     },
     "execution_count": 12,
     "metadata": {},
     "output_type": "execute_result"
    }
   ],
   "source": [
    "titanik.isnull()\n",
    "\n",
    "titanik.isnull().sum()  ###verideki kayıp olanların toplamına baktık böylece çok fazla eksik olan columnları görebileceğiz"
   ]
  },
  {
   "cell_type": "code",
   "execution_count": 13,
   "id": "f97427d8",
   "metadata": {
    "execution": {
     "iopub.execute_input": "2021-10-08T13:54:15.598476Z",
     "iopub.status.busy": "2021-10-08T13:54:15.597880Z",
     "iopub.status.idle": "2021-10-08T13:54:16.126526Z",
     "shell.execute_reply": "2021-10-08T13:54:16.126981Z",
     "shell.execute_reply.started": "2021-10-08T13:53:24.889363Z"
    },
    "papermill": {
     "duration": 0.563092,
     "end_time": "2021-10-08T13:54:16.127196",
     "exception": false,
     "start_time": "2021-10-08T13:54:15.564104",
     "status": "completed"
    },
    "tags": []
   },
   "outputs": [
    {
     "data": {
      "text/plain": [
       "<AxesSubplot:>"
      ]
     },
     "execution_count": 13,
     "metadata": {},
     "output_type": "execute_result"
    },
    {
     "data": {
      "image/png": "[encoded data removed]",
      "text/plain": [
       "<Figure size 2160x1440 with 2 Axes>"
      ]
     },
     "metadata": {
      "needs_background": "light"
     },
     "output_type": "display_data"
    }
   ],
   "source": [
    "plt.figure(figsize=(30,20))\n",
    "sns.heatmap(titanik.isnull(), yticklabels=False, cmap=\"viridis\")"
   ]
  },
  {
   "cell_type": "markdown",
   "id": "3ca566a7",
   "metadata": {
    "papermill": {
     "duration": 0.049731,
     "end_time": "2021-10-08T13:54:16.218334",
     "exception": false,
     "start_time": "2021-10-08T13:54:16.168603",
     "status": "completed"
    },
    "tags": []
   },
   "source": [
    "Isı haritasında eksik verilerin olduğu columsları daha net görebiliriz"
   ]
  },
  {
   "cell_type": "code",
   "execution_count": 14,
   "id": "460177a6",
   "metadata": {
    "execution": {
     "iopub.execute_input": "2021-10-08T13:54:16.296806Z",
     "iopub.status.busy": "2021-10-08T13:54:16.296137Z",
     "iopub.status.idle": "2021-10-08T13:54:16.313662Z",
     "shell.execute_reply": "2021-10-08T13:54:16.313161Z",
     "shell.execute_reply.started": "2021-10-08T13:53:25.411909Z"
    },
    "papermill": {
     "duration": 0.052951,
     "end_time": "2021-10-08T13:54:16.313796",
     "exception": false,
     "start_time": "2021-10-08T13:54:16.260845",
     "status": "completed"
    },
    "tags": []
   },
   "outputs": [
    {
     "data": {
      "text/html": [
       "<div>\n",
       "<style scoped>\n",
       "    .dataframe tbody tr th:only-of-type {\n",
       "        vertical-align: middle;\n",
       "    }\n",
       "\n",
       "    .dataframe tbody tr th {\n",
       "        vertical-align: top;\n",
       "    }\n",
       "\n",
       "    .dataframe thead th {\n",
       "        text-align: right;\n",
       "    }\n",
       "</style>\n",
       "<table border=\"1\" class=\"dataframe\">\n",
       "  <thead>\n",
       "    <tr style=\"text-align: right;\">\n",
       "      <th></th>\n",
       "      <th>pclass</th>\n",
       "      <th>survived</th>\n",
       "      <th>name</th>\n",
       "      <th>sex</th>\n",
       "      <th>age</th>\n",
       "      <th>sibsp</th>\n",
       "      <th>parch</th>\n",
       "      <th>ticket</th>\n",
       "      <th>fare</th>\n",
       "      <th>embarked</th>\n",
       "    </tr>\n",
       "  </thead>\n",
       "  <tbody>\n",
       "    <tr>\n",
       "      <th>0</th>\n",
       "      <td>1.0</td>\n",
       "      <td>1.0</td>\n",
       "      <td>Allen, Miss. Elisabeth Walton</td>\n",
       "      <td>female</td>\n",
       "      <td>29.0000</td>\n",
       "      <td>0.0</td>\n",
       "      <td>0.0</td>\n",
       "      <td>24160</td>\n",
       "      <td>211.3375</td>\n",
       "      <td>S</td>\n",
       "    </tr>\n",
       "    <tr>\n",
       "      <th>1</th>\n",
       "      <td>1.0</td>\n",
       "      <td>1.0</td>\n",
       "      <td>Allison, Master. Hudson Trevor</td>\n",
       "      <td>male</td>\n",
       "      <td>0.9167</td>\n",
       "      <td>1.0</td>\n",
       "      <td>2.0</td>\n",
       "      <td>113781</td>\n",
       "      <td>151.5500</td>\n",
       "      <td>S</td>\n",
       "    </tr>\n",
       "    <tr>\n",
       "      <th>2</th>\n",
       "      <td>1.0</td>\n",
       "      <td>0.0</td>\n",
       "      <td>Allison, Miss. Helen Loraine</td>\n",
       "      <td>female</td>\n",
       "      <td>2.0000</td>\n",
       "      <td>1.0</td>\n",
       "      <td>2.0</td>\n",
       "      <td>113781</td>\n",
       "      <td>151.5500</td>\n",
       "      <td>S</td>\n",
       "    </tr>\n",
       "    <tr>\n",
       "      <th>3</th>\n",
       "      <td>1.0</td>\n",
       "      <td>0.0</td>\n",
       "      <td>Allison, Mr. Hudson Joshua Creighton</td>\n",
       "      <td>male</td>\n",
       "      <td>30.0000</td>\n",
       "      <td>1.0</td>\n",
       "      <td>2.0</td>\n",
       "      <td>113781</td>\n",
       "      <td>151.5500</td>\n",
       "      <td>S</td>\n",
       "    </tr>\n",
       "    <tr>\n",
       "      <th>4</th>\n",
       "      <td>1.0</td>\n",
       "      <td>0.0</td>\n",
       "      <td>Allison, Mrs. Hudson J C (Bessie Waldo Daniels)</td>\n",
       "      <td>female</td>\n",
       "      <td>25.0000</td>\n",
       "      <td>1.0</td>\n",
       "      <td>2.0</td>\n",
       "      <td>113781</td>\n",
       "      <td>151.5500</td>\n",
       "      <td>S</td>\n",
       "    </tr>\n",
       "  </tbody>\n",
       "</table>\n",
       "</div>"
      ],
      "text/plain": [
       "   pclass  survived                                             name     sex  \\\n",
       "0     1.0       1.0                    Allen, Miss. Elisabeth Walton  female   \n",
       "1     1.0       1.0                   Allison, Master. Hudson Trevor    male   \n",
       "2     1.0       0.0                     Allison, Miss. Helen Loraine  female   \n",
       "3     1.0       0.0             Allison, Mr. Hudson Joshua Creighton    male   \n",
       "4     1.0       0.0  Allison, Mrs. Hudson J C (Bessie Waldo Daniels)  female   \n",
       "\n",
       "       age  sibsp  parch  ticket      fare embarked  \n",
       "0  29.0000    0.0    0.0   24160  211.3375        S  \n",
       "1   0.9167    1.0    2.0  113781  151.5500        S  \n",
       "2   2.0000    1.0    2.0  113781  151.5500        S  \n",
       "3  30.0000    1.0    2.0  113781  151.5500        S  \n",
       "4  25.0000    1.0    2.0  113781  151.5500        S  "
      ]
     },
     "execution_count": 14,
     "metadata": {},
     "output_type": "execute_result"
    }
   ],
   "source": [
    "titanik.drop([\"cabin\", \"boat\", \"body\", \"home.dest\"], axis = 1, inplace = True)\n",
    "titanik.head()"
   ]
  },
  {
   "cell_type": "code",
   "execution_count": 15,
   "id": "281d098d",
   "metadata": {
    "execution": {
     "iopub.execute_input": "2021-10-08T13:54:16.387905Z",
     "iopub.status.busy": "2021-10-08T13:54:16.387328Z",
     "iopub.status.idle": "2021-10-08T13:54:16.388873Z",
     "shell.execute_reply": "2021-10-08T13:54:16.389433Z",
     "shell.execute_reply.started": "2021-10-08T13:53:25.435669Z"
    },
    "papermill": {
     "duration": 0.042553,
     "end_time": "2021-10-08T13:54:16.389591",
     "exception": false,
     "start_time": "2021-10-08T13:54:16.347038",
     "status": "completed"
    },
    "tags": []
   },
   "outputs": [],
   "source": [
    "titanik.dropna(inplace = True)  ##Kayıp veriler silindi."
   ]
  },
  {
   "cell_type": "code",
   "execution_count": 16,
   "id": "43a2c7ff",
   "metadata": {
    "execution": {
     "iopub.execute_input": "2021-10-08T13:54:16.463944Z",
     "iopub.status.busy": "2021-10-08T13:54:16.459024Z",
     "iopub.status.idle": "2021-10-08T13:54:16.467154Z",
     "shell.execute_reply": "2021-10-08T13:54:16.466580Z",
     "shell.execute_reply.started": "2021-10-08T13:53:25.451415Z"
    },
    "papermill": {
     "duration": 0.044522,
     "end_time": "2021-10-08T13:54:16.467326",
     "exception": false,
     "start_time": "2021-10-08T13:54:16.422804",
     "status": "completed"
    },
    "tags": []
   },
   "outputs": [
    {
     "data": {
      "text/plain": [
       "pclass      0\n",
       "survived    0\n",
       "name        0\n",
       "sex         0\n",
       "age         0\n",
       "sibsp       0\n",
       "parch       0\n",
       "ticket      0\n",
       "fare        0\n",
       "embarked    0\n",
       "dtype: int64"
      ]
     },
     "execution_count": 16,
     "metadata": {},
     "output_type": "execute_result"
    }
   ],
   "source": [
    "titanik.isnull().sum() ##eksik veri kalmadıpını görebiliyoruz."
   ]
  },
  {
   "cell_type": "code",
   "execution_count": 17,
   "id": "cf74d7cb",
   "metadata": {
    "execution": {
     "iopub.execute_input": "2021-10-08T13:54:16.541415Z",
     "iopub.status.busy": "2021-10-08T13:54:16.540603Z",
     "iopub.status.idle": "2021-10-08T13:54:16.543656Z",
     "shell.execute_reply": "2021-10-08T13:54:16.544142Z",
     "shell.execute_reply.started": "2021-10-08T13:53:25.469297Z"
    },
    "papermill": {
     "duration": 0.043237,
     "end_time": "2021-10-08T13:54:16.544320",
     "exception": false,
     "start_time": "2021-10-08T13:54:16.501083",
     "status": "completed"
    },
    "tags": []
   },
   "outputs": [
    {
     "data": {
      "text/plain": [
       "pclass      float64\n",
       "survived    float64\n",
       "name         object\n",
       "sex          object\n",
       "age         float64\n",
       "sibsp       float64\n",
       "parch       float64\n",
       "ticket       object\n",
       "fare        float64\n",
       "embarked     object\n",
       "dtype: object"
      ]
     },
     "execution_count": 17,
     "metadata": {},
     "output_type": "execute_result"
    }
   ],
   "source": [
    "titanik.dtypes"
   ]
  },
  {
   "cell_type": "code",
   "execution_count": 18,
   "id": "34d99bec",
   "metadata": {
    "execution": {
     "iopub.execute_input": "2021-10-08T13:54:16.618064Z",
     "iopub.status.busy": "2021-10-08T13:54:16.617256Z",
     "iopub.status.idle": "2021-10-08T13:54:16.620011Z",
     "shell.execute_reply": "2021-10-08T13:54:16.620494Z",
     "shell.execute_reply.started": "2021-10-08T13:53:25.483951Z"
    },
    "papermill": {
     "duration": 0.042657,
     "end_time": "2021-10-08T13:54:16.620674",
     "exception": false,
     "start_time": "2021-10-08T13:54:16.578017",
     "status": "completed"
    },
    "tags": []
   },
   "outputs": [],
   "source": [
    "sex = pd.get_dummies(titanik[\"sex\"], drop_first = True) ##Cinsiyet kategorisindeki verileri 0 ve 1'lerden oluşan verilere dönüştürüyoruz"
   ]
  },
  {
   "cell_type": "code",
   "execution_count": 19,
   "id": "325ec73c",
   "metadata": {
    "execution": {
     "iopub.execute_input": "2021-10-08T13:54:16.692262Z",
     "iopub.status.busy": "2021-10-08T13:54:16.691368Z",
     "iopub.status.idle": "2021-10-08T13:54:16.699038Z",
     "shell.execute_reply": "2021-10-08T13:54:16.699516Z",
     "shell.execute_reply.started": "2021-10-08T13:53:25.496767Z"
    },
    "papermill": {
     "duration": 0.045241,
     "end_time": "2021-10-08T13:54:16.699694",
     "exception": false,
     "start_time": "2021-10-08T13:54:16.654453",
     "status": "completed"
    },
    "tags": []
   },
   "outputs": [
    {
     "data": {
      "text/html": [
       "<div>\n",
       "<style scoped>\n",
       "    .dataframe tbody tr th:only-of-type {\n",
       "        vertical-align: middle;\n",
       "    }\n",
       "\n",
       "    .dataframe tbody tr th {\n",
       "        vertical-align: top;\n",
       "    }\n",
       "\n",
       "    .dataframe thead th {\n",
       "        text-align: right;\n",
       "    }\n",
       "</style>\n",
       "<table border=\"1\" class=\"dataframe\">\n",
       "  <thead>\n",
       "    <tr style=\"text-align: right;\">\n",
       "      <th></th>\n",
       "      <th>male</th>\n",
       "    </tr>\n",
       "  </thead>\n",
       "  <tbody>\n",
       "    <tr>\n",
       "      <th>0</th>\n",
       "      <td>0</td>\n",
       "    </tr>\n",
       "    <tr>\n",
       "      <th>1</th>\n",
       "      <td>1</td>\n",
       "    </tr>\n",
       "    <tr>\n",
       "      <th>2</th>\n",
       "      <td>0</td>\n",
       "    </tr>\n",
       "    <tr>\n",
       "      <th>3</th>\n",
       "      <td>1</td>\n",
       "    </tr>\n",
       "    <tr>\n",
       "      <th>4</th>\n",
       "      <td>0</td>\n",
       "    </tr>\n",
       "  </tbody>\n",
       "</table>\n",
       "</div>"
      ],
      "text/plain": [
       "   male\n",
       "0     0\n",
       "1     1\n",
       "2     0\n",
       "3     1\n",
       "4     0"
      ]
     },
     "execution_count": 19,
     "metadata": {},
     "output_type": "execute_result"
    }
   ],
   "source": [
    "sex.head() ##0:kadın, 1:erkek "
   ]
  },
  {
   "cell_type": "code",
   "execution_count": 20,
   "id": "fcd71838",
   "metadata": {
    "execution": {
     "iopub.execute_input": "2021-10-08T13:54:16.776931Z",
     "iopub.status.busy": "2021-10-08T13:54:16.776102Z",
     "iopub.status.idle": "2021-10-08T13:54:16.779197Z",
     "shell.execute_reply": "2021-10-08T13:54:16.779665Z",
     "shell.execute_reply.started": "2021-10-08T13:53:25.516173Z"
    },
    "papermill": {
     "duration": 0.045389,
     "end_time": "2021-10-08T13:54:16.779825",
     "exception": false,
     "start_time": "2021-10-08T13:54:16.734436",
     "status": "completed"
    },
    "tags": []
   },
   "outputs": [
    {
     "data": {
      "text/plain": [
       "S    781\n",
       "C    212\n",
       "Q     50\n",
       "Name: embarked, dtype: int64"
      ]
     },
     "execution_count": 20,
     "metadata": {},
     "output_type": "execute_result"
    }
   ],
   "source": [
    "titanik.embarked.value_counts()"
   ]
  },
  {
   "cell_type": "code",
   "execution_count": 21,
   "id": "6854286e",
   "metadata": {
    "execution": {
     "iopub.execute_input": "2021-10-08T13:54:16.859057Z",
     "iopub.status.busy": "2021-10-08T13:54:16.858255Z",
     "iopub.status.idle": "2021-10-08T13:54:16.861884Z",
     "shell.execute_reply": "2021-10-08T13:54:16.861384Z",
     "shell.execute_reply.started": "2021-10-08T13:53:25.527625Z"
    },
    "papermill": {
     "duration": 0.046183,
     "end_time": "2021-10-08T13:54:16.862024",
     "exception": false,
     "start_time": "2021-10-08T13:54:16.815841",
     "status": "completed"
    },
    "tags": []
   },
   "outputs": [
    {
     "data": {
      "text/plain": [
       "3.0    500\n",
       "1.0    282\n",
       "2.0    261\n",
       "Name: pclass, dtype: int64"
      ]
     },
     "execution_count": 21,
     "metadata": {},
     "output_type": "execute_result"
    }
   ],
   "source": [
    "titanik.pclass.value_counts()"
   ]
  },
  {
   "cell_type": "code",
   "execution_count": 22,
   "id": "7dea25da",
   "metadata": {
    "execution": {
     "iopub.execute_input": "2021-10-08T13:54:16.939702Z",
     "iopub.status.busy": "2021-10-08T13:54:16.936475Z",
     "iopub.status.idle": "2021-10-08T13:54:16.942743Z",
     "shell.execute_reply": "2021-10-08T13:54:16.942137Z",
     "shell.execute_reply.started": "2021-10-08T13:53:25.542918Z"
    },
    "papermill": {
     "duration": 0.044949,
     "end_time": "2021-10-08T13:54:16.942875",
     "exception": false,
     "start_time": "2021-10-08T13:54:16.897926",
     "status": "completed"
    },
    "tags": []
   },
   "outputs": [],
   "source": [
    "embarked = pd.get_dummies(titanik[\"embarked\"], drop_first = True)"
   ]
  },
  {
   "cell_type": "markdown",
   "id": "892ad424",
   "metadata": {
    "papermill": {
     "duration": 0.035649,
     "end_time": "2021-10-08T13:54:17.013506",
     "exception": false,
     "start_time": "2021-10-08T13:54:16.977857",
     "status": "completed"
    },
    "tags": []
   },
   "source": [
    "Cinsiyet versine yapılan işlemler gemiye binme yeri ve seyehat edilen sınıf için de yapıldı."
   ]
  },
  {
   "cell_type": "code",
   "execution_count": 23,
   "id": "a0ad7afa",
   "metadata": {
    "execution": {
     "iopub.execute_input": "2021-10-08T13:54:17.090956Z",
     "iopub.status.busy": "2021-10-08T13:54:17.090250Z",
     "iopub.status.idle": "2021-10-08T13:54:17.092827Z",
     "shell.execute_reply": "2021-10-08T13:54:17.092374Z",
     "shell.execute_reply.started": "2021-10-08T13:53:25.556034Z"
    },
    "papermill": {
     "duration": 0.043219,
     "end_time": "2021-10-08T13:54:17.093043",
     "exception": false,
     "start_time": "2021-10-08T13:54:17.049824",
     "status": "completed"
    },
    "tags": []
   },
   "outputs": [],
   "source": [
    "pclass = pd.get_dummies(titanik[\"pclass\"], drop_first = True)"
   ]
  },
  {
   "cell_type": "code",
   "execution_count": 24,
   "id": "160729cc",
   "metadata": {
    "execution": {
     "iopub.execute_input": "2021-10-08T13:54:17.169429Z",
     "iopub.status.busy": "2021-10-08T13:54:17.168453Z",
     "iopub.status.idle": "2021-10-08T13:54:17.172241Z",
     "shell.execute_reply": "2021-10-08T13:54:17.171696Z",
     "shell.execute_reply.started": "2021-10-08T13:53:25.569464Z"
    },
    "papermill": {
     "duration": 0.043626,
     "end_time": "2021-10-08T13:54:17.172398",
     "exception": false,
     "start_time": "2021-10-08T13:54:17.128772",
     "status": "completed"
    },
    "tags": []
   },
   "outputs": [],
   "source": [
    "titanik.drop([\"sex\",\"embarked\",\"pclass\"], axis = 1, inplace = True)"
   ]
  },
  {
   "cell_type": "markdown",
   "id": "c63c7289",
   "metadata": {
    "papermill": {
     "duration": 0.034602,
     "end_time": "2021-10-08T13:54:17.243338",
     "exception": false,
     "start_time": "2021-10-08T13:54:17.208736",
     "status": "completed"
    },
    "tags": []
   },
   "source": [
    "Object tipinde kalan veriler silindi."
   ]
  },
  {
   "cell_type": "code",
   "execution_count": 25,
   "id": "b355d22b",
   "metadata": {
    "execution": {
     "iopub.execute_input": "2021-10-08T13:54:17.320131Z",
     "iopub.status.busy": "2021-10-08T13:54:17.319171Z",
     "iopub.status.idle": "2021-10-08T13:54:17.321279Z",
     "shell.execute_reply": "2021-10-08T13:54:17.321699Z",
     "shell.execute_reply.started": "2021-10-08T13:53:25.583685Z"
    },
    "papermill": {
     "duration": 0.043558,
     "end_time": "2021-10-08T13:54:17.321853",
     "exception": false,
     "start_time": "2021-10-08T13:54:17.278295",
     "status": "completed"
    },
    "tags": []
   },
   "outputs": [],
   "source": [
    "titanik = pd.concat([titanik, sex, embarked, pclass], axis = 1) ##object halden dönüşmüş veriler dataya eklendi."
   ]
  },
  {
   "cell_type": "code",
   "execution_count": 26,
   "id": "a9b1366f",
   "metadata": {
    "execution": {
     "iopub.execute_input": "2021-10-08T13:54:17.397705Z",
     "iopub.status.busy": "2021-10-08T13:54:17.396851Z",
     "iopub.status.idle": "2021-10-08T13:54:17.402796Z",
     "shell.execute_reply": "2021-10-08T13:54:17.403234Z",
     "shell.execute_reply.started": "2021-10-08T13:53:25.598878Z"
    },
    "papermill": {
     "duration": 0.046915,
     "end_time": "2021-10-08T13:54:17.403390",
     "exception": false,
     "start_time": "2021-10-08T13:54:17.356475",
     "status": "completed"
    },
    "tags": []
   },
   "outputs": [
    {
     "data": {
      "text/plain": [
       "survived    float64\n",
       "name         object\n",
       "age         float64\n",
       "sibsp       float64\n",
       "parch       float64\n",
       "ticket       object\n",
       "fare        float64\n",
       "male          uint8\n",
       "Q             uint8\n",
       "S             uint8\n",
       "2.0           uint8\n",
       "3.0           uint8\n",
       "dtype: object"
      ]
     },
     "execution_count": 26,
     "metadata": {},
     "output_type": "execute_result"
    }
   ],
   "source": [
    "titanik.dtypes"
   ]
  },
  {
   "cell_type": "code",
   "execution_count": 27,
   "id": "7cf18a24",
   "metadata": {
    "execution": {
     "iopub.execute_input": "2021-10-08T13:54:17.479129Z",
     "iopub.status.busy": "2021-10-08T13:54:17.478192Z",
     "iopub.status.idle": "2021-10-08T13:54:17.481718Z",
     "shell.execute_reply": "2021-10-08T13:54:17.482103Z",
     "shell.execute_reply.started": "2021-10-08T13:53:25.614791Z"
    },
    "papermill": {
     "duration": 0.044122,
     "end_time": "2021-10-08T13:54:17.482278",
     "exception": false,
     "start_time": "2021-10-08T13:54:17.438156",
     "status": "completed"
    },
    "tags": []
   },
   "outputs": [],
   "source": [
    "titanik.drop([\"name\", \"ticket\"], axis = 1, inplace = True)"
   ]
  },
  {
   "cell_type": "code",
   "execution_count": 28,
   "id": "84dd7bfb",
   "metadata": {
    "execution": {
     "iopub.execute_input": "2021-10-08T13:54:17.565433Z",
     "iopub.status.busy": "2021-10-08T13:54:17.564603Z",
     "iopub.status.idle": "2021-10-08T13:54:17.568479Z",
     "shell.execute_reply": "2021-10-08T13:54:17.567899Z",
     "shell.execute_reply.started": "2021-10-08T13:53:25.624959Z"
    },
    "papermill": {
     "duration": 0.051455,
     "end_time": "2021-10-08T13:54:17.568609",
     "exception": false,
     "start_time": "2021-10-08T13:54:17.517154",
     "status": "completed"
    },
    "tags": []
   },
   "outputs": [
    {
     "data": {
      "text/html": [
       "<div>\n",
       "<style scoped>\n",
       "    .dataframe tbody tr th:only-of-type {\n",
       "        vertical-align: middle;\n",
       "    }\n",
       "\n",
       "    .dataframe tbody tr th {\n",
       "        vertical-align: top;\n",
       "    }\n",
       "\n",
       "    .dataframe thead th {\n",
       "        text-align: right;\n",
       "    }\n",
       "</style>\n",
       "<table border=\"1\" class=\"dataframe\">\n",
       "  <thead>\n",
       "    <tr style=\"text-align: right;\">\n",
       "      <th></th>\n",
       "      <th>survived</th>\n",
       "      <th>age</th>\n",
       "      <th>sibsp</th>\n",
       "      <th>parch</th>\n",
       "      <th>fare</th>\n",
       "      <th>male</th>\n",
       "      <th>Q</th>\n",
       "      <th>S</th>\n",
       "      <th>2.0</th>\n",
       "      <th>3.0</th>\n",
       "    </tr>\n",
       "  </thead>\n",
       "  <tbody>\n",
       "    <tr>\n",
       "      <th>0</th>\n",
       "      <td>1.0</td>\n",
       "      <td>29.0000</td>\n",
       "      <td>0.0</td>\n",
       "      <td>0.0</td>\n",
       "      <td>211.3375</td>\n",
       "      <td>0</td>\n",
       "      <td>0</td>\n",
       "      <td>1</td>\n",
       "      <td>0</td>\n",
       "      <td>0</td>\n",
       "    </tr>\n",
       "    <tr>\n",
       "      <th>1</th>\n",
       "      <td>1.0</td>\n",
       "      <td>0.9167</td>\n",
       "      <td>1.0</td>\n",
       "      <td>2.0</td>\n",
       "      <td>151.5500</td>\n",
       "      <td>1</td>\n",
       "      <td>0</td>\n",
       "      <td>1</td>\n",
       "      <td>0</td>\n",
       "      <td>0</td>\n",
       "    </tr>\n",
       "    <tr>\n",
       "      <th>2</th>\n",
       "      <td>0.0</td>\n",
       "      <td>2.0000</td>\n",
       "      <td>1.0</td>\n",
       "      <td>2.0</td>\n",
       "      <td>151.5500</td>\n",
       "      <td>0</td>\n",
       "      <td>0</td>\n",
       "      <td>1</td>\n",
       "      <td>0</td>\n",
       "      <td>0</td>\n",
       "    </tr>\n",
       "    <tr>\n",
       "      <th>3</th>\n",
       "      <td>0.0</td>\n",
       "      <td>30.0000</td>\n",
       "      <td>1.0</td>\n",
       "      <td>2.0</td>\n",
       "      <td>151.5500</td>\n",
       "      <td>1</td>\n",
       "      <td>0</td>\n",
       "      <td>1</td>\n",
       "      <td>0</td>\n",
       "      <td>0</td>\n",
       "    </tr>\n",
       "    <tr>\n",
       "      <th>4</th>\n",
       "      <td>0.0</td>\n",
       "      <td>25.0000</td>\n",
       "      <td>1.0</td>\n",
       "      <td>2.0</td>\n",
       "      <td>151.5500</td>\n",
       "      <td>0</td>\n",
       "      <td>0</td>\n",
       "      <td>1</td>\n",
       "      <td>0</td>\n",
       "      <td>0</td>\n",
       "    </tr>\n",
       "  </tbody>\n",
       "</table>\n",
       "</div>"
      ],
      "text/plain": [
       "   survived      age  sibsp  parch      fare  male  Q  S  2.0  3.0\n",
       "0       1.0  29.0000    0.0    0.0  211.3375     0  0  1    0    0\n",
       "1       1.0   0.9167    1.0    2.0  151.5500     1  0  1    0    0\n",
       "2       0.0   2.0000    1.0    2.0  151.5500     0  0  1    0    0\n",
       "3       0.0  30.0000    1.0    2.0  151.5500     1  0  1    0    0\n",
       "4       0.0  25.0000    1.0    2.0  151.5500     0  0  1    0    0"
      ]
     },
     "execution_count": 28,
     "metadata": {},
     "output_type": "execute_result"
    }
   ],
   "source": [
    "titanik.head()\n"
   ]
  },
  {
   "cell_type": "markdown",
   "id": "71e6d47d",
   "metadata": {
    "papermill": {
     "duration": 0.035239,
     "end_time": "2021-10-08T13:54:17.639385",
     "exception": false,
     "start_time": "2021-10-08T13:54:17.604146",
     "status": "completed"
    },
    "tags": []
   },
   "source": [
    "**Logistic Regression**"
   ]
  },
  {
   "cell_type": "code",
   "execution_count": 29,
   "id": "577cf274",
   "metadata": {
    "execution": {
     "iopub.execute_input": "2021-10-08T13:54:17.713266Z",
     "iopub.status.busy": "2021-10-08T13:54:17.712697Z",
     "iopub.status.idle": "2021-10-08T13:54:17.718279Z",
     "shell.execute_reply": "2021-10-08T13:54:17.717764Z",
     "shell.execute_reply.started": "2021-10-08T13:53:25.649564Z"
    },
    "papermill": {
     "duration": 0.043936,
     "end_time": "2021-10-08T13:54:17.718420",
     "exception": false,
     "start_time": "2021-10-08T13:54:17.674484",
     "status": "completed"
    },
    "tags": []
   },
   "outputs": [],
   "source": [
    "X = titanik.drop(\"survived\", axis = 1)\n",
    "\n",
    "y = titanik[\"survived\"]"
   ]
  },
  {
   "cell_type": "code",
   "execution_count": 30,
   "id": "e00d7ae9",
   "metadata": {
    "execution": {
     "iopub.execute_input": "2021-10-08T13:54:17.795969Z",
     "iopub.status.busy": "2021-10-08T13:54:17.795283Z",
     "iopub.status.idle": "2021-10-08T13:54:17.954657Z",
     "shell.execute_reply": "2021-10-08T13:54:17.953983Z",
     "shell.execute_reply.started": "2021-10-08T13:53:25.658281Z"
    },
    "papermill": {
     "duration": 0.199644,
     "end_time": "2021-10-08T13:54:17.954807",
     "exception": false,
     "start_time": "2021-10-08T13:54:17.755163",
     "status": "completed"
    },
    "tags": []
   },
   "outputs": [],
   "source": [
    "from sklearn.model_selection import train_test_split"
   ]
  },
  {
   "cell_type": "code",
   "execution_count": 31,
   "id": "6aaa8613",
   "metadata": {
    "execution": {
     "iopub.execute_input": "2021-10-08T13:54:18.036049Z",
     "iopub.status.busy": "2021-10-08T13:54:18.035355Z",
     "iopub.status.idle": "2021-10-08T13:54:18.114322Z",
     "shell.execute_reply": "2021-10-08T13:54:18.113666Z",
     "shell.execute_reply.started": "2021-10-08T13:53:25.670265Z"
    },
    "papermill": {
     "duration": 0.123594,
     "end_time": "2021-10-08T13:54:18.114463",
     "exception": false,
     "start_time": "2021-10-08T13:54:17.990869",
     "status": "completed"
    },
    "tags": []
   },
   "outputs": [],
   "source": [
    "X_train, X_test, y_train, y_test = train_test_split(X,y, test_size=0.25, random_state=100)\n",
    "from sklearn.linear_model import LogisticRegression"
   ]
  },
  {
   "cell_type": "code",
   "execution_count": 32,
   "id": "12c567b1",
   "metadata": {
    "execution": {
     "iopub.execute_input": "2021-10-08T13:54:18.193241Z",
     "iopub.status.busy": "2021-10-08T13:54:18.192486Z",
     "iopub.status.idle": "2021-10-08T13:54:18.256259Z",
     "shell.execute_reply": "2021-10-08T13:54:18.256799Z",
     "shell.execute_reply.started": "2021-10-08T13:53:25.683703Z"
    },
    "papermill": {
     "duration": 0.106566,
     "end_time": "2021-10-08T13:54:18.256965",
     "exception": false,
     "start_time": "2021-10-08T13:54:18.150399",
     "status": "completed"
    },
    "tags": []
   },
   "outputs": [
    {
     "data": {
      "text/plain": [
       "LogisticRegression(C=0.1, max_iter=1000)"
      ]
     },
     "execution_count": 32,
     "metadata": {},
     "output_type": "execute_result"
    }
   ],
   "source": [
    "lg_model = LogisticRegression(C=0.1 ,max_iter=1000)\n",
    "lg_model.fit(X_train, y_train)"
   ]
  },
  {
   "cell_type": "code",
   "execution_count": 33,
   "id": "a41e1322",
   "metadata": {
    "execution": {
     "iopub.execute_input": "2021-10-08T13:54:18.334169Z",
     "iopub.status.busy": "2021-10-08T13:54:18.333269Z",
     "iopub.status.idle": "2021-10-08T13:54:18.340800Z",
     "shell.execute_reply": "2021-10-08T13:54:18.341289Z",
     "shell.execute_reply.started": "2021-10-08T13:53:25.789586Z"
    },
    "papermill": {
     "duration": 0.046766,
     "end_time": "2021-10-08T13:54:18.341446",
     "exception": false,
     "start_time": "2021-10-08T13:54:18.294680",
     "status": "completed"
    },
    "tags": []
   },
   "outputs": [
    {
     "data": {
      "text/plain": [
       "0.7816091954022989"
      ]
     },
     "execution_count": 33,
     "metadata": {},
     "output_type": "execute_result"
    }
   ],
   "source": [
    "lg_model.score(X_test,y_test)\n"
   ]
  },
  {
   "cell_type": "code",
   "execution_count": 34,
   "id": "0a45ebb7",
   "metadata": {
    "execution": {
     "iopub.execute_input": "2021-10-08T13:54:18.416749Z",
     "iopub.status.busy": "2021-10-08T13:54:18.415847Z",
     "iopub.status.idle": "2021-10-08T13:54:18.422978Z",
     "shell.execute_reply": "2021-10-08T13:54:18.423538Z",
     "shell.execute_reply.started": "2021-10-08T13:53:25.800724Z"
    },
    "papermill": {
     "duration": 0.046365,
     "end_time": "2021-10-08T13:54:18.423700",
     "exception": false,
     "start_time": "2021-10-08T13:54:18.377335",
     "status": "completed"
    },
    "tags": []
   },
   "outputs": [
    {
     "data": {
      "text/plain": [
       "0.7953964194373402"
      ]
     },
     "execution_count": 34,
     "metadata": {},
     "output_type": "execute_result"
    }
   ],
   "source": [
    "lg_model.score(X_train,y_train)"
   ]
  },
  {
   "cell_type": "code",
   "execution_count": 35,
   "id": "25438c44",
   "metadata": {
    "execution": {
     "iopub.execute_input": "2021-10-08T13:54:18.499816Z",
     "iopub.status.busy": "2021-10-08T13:54:18.498923Z",
     "iopub.status.idle": "2021-10-08T13:54:18.508537Z",
     "shell.execute_reply": "2021-10-08T13:54:18.509043Z",
     "shell.execute_reply.started": "2021-10-08T13:53:25.816424Z"
    },
    "papermill": {
     "duration": 0.049485,
     "end_time": "2021-10-08T13:54:18.509225",
     "exception": false,
     "start_time": "2021-10-08T13:54:18.459740",
     "status": "completed"
    },
    "tags": []
   },
   "outputs": [
    {
     "data": {
      "text/plain": [
       "array([[124,  21],\n",
       "       [ 36,  80]])"
      ]
     },
     "execution_count": 35,
     "metadata": {},
     "output_type": "execute_result"
    }
   ],
   "source": [
    "from sklearn.metrics import confusion_matrix\n",
    "tahmin = lg_model.predict(X_test)\n",
    "\n",
    "confusion_matrix(y_test,tahmin)"
   ]
  },
  {
   "cell_type": "code",
   "execution_count": 36,
   "id": "8b702410",
   "metadata": {
    "execution": {
     "iopub.execute_input": "2021-10-08T13:54:18.585736Z",
     "iopub.status.busy": "2021-10-08T13:54:18.584765Z",
     "iopub.status.idle": "2021-10-08T13:54:18.590736Z",
     "shell.execute_reply": "2021-10-08T13:54:18.591155Z",
     "shell.execute_reply.started": "2021-10-08T13:53:25.831672Z"
    },
    "papermill": {
     "duration": 0.045786,
     "end_time": "2021-10-08T13:54:18.591331",
     "exception": false,
     "start_time": "2021-10-08T13:54:18.545545",
     "status": "completed"
    },
    "tags": []
   },
   "outputs": [
    {
     "data": {
      "text/plain": [
       "array([1.])"
      ]
     },
     "execution_count": 36,
     "metadata": {},
     "output_type": "execute_result"
    }
   ],
   "source": [
    "yeni_veri = np.array([[23,0,0,211.3375,0,0,1,0,0]])\n",
    "lg_model.predict(yeni_veri)"
   ]
  },
  {
   "cell_type": "markdown",
   "id": "8f8a6de2",
   "metadata": {
    "papermill": {
     "duration": 0.036575,
     "end_time": "2021-10-08T13:54:18.664895",
     "exception": false,
     "start_time": "2021-10-08T13:54:18.628320",
     "status": "completed"
    },
    "tags": []
   },
   "source": [
    "Eğitimin ardından rastgele yeni değerler girildi ve sonuç hayatta kalır olarak verildi."
   ]
  }
 ],
 "metadata": {
  "kernelspec": {
   "display_name": "Python 3",
   "language": "python",
   "name": "python3"
  },
  "language_info": {
   "codemirror_mode": {
    "name": "ipython",
    "version": 3
   },
   "file_extension": ".py",
   "mimetype": "text/x-python",
   "name": "python",
   "nbconvert_exporter": "python",
   "pygments_lexer": "ipython3",
   "version": "3.7.10"
  },
  "papermill": {
   "default_parameters": {},
   "duration": 14.705748,
   "end_time": "2021-10-08T13:54:20.043133",
   "environment_variables": {},
   "exception": null,
   "input_path": "__notebook__.ipynb",
   "output_path": "__notebook__.ipynb",
   "parameters": {},
   "start_time": "2021-10-08T13:54:05.337385",
   "version": "2.3.3"
  }
 },
 "nbformat": 4,
 "nbformat_minor": 5
}
